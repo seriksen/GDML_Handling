{
 "cells": [
  {
   "cell_type": "markdown",
   "metadata": {},
   "source": [
    "# GDML Explorer"
   ]
  },
  {
   "cell_type": "markdown",
   "metadata": {},
   "source": [
    "Author: Sam Eriksen\n",
    "\n",
    "## Purpose\n",
    "To work out how to explore GDML files to convert to trees for GPU simulations.\n",
    "\n",
    "Ultimate aim:\n",
    "1. To develope MutliUnion handling\n",
    "\n",
    "Additional details at opticks\n",
    "\n"
   ]
  },
  {
   "cell_type": "markdown",
   "metadata": {},
   "source": [
    "##### Unusual Libraries Needed\n",
    "* lxml"
   ]
  },
  {
   "cell_type": "markdown",
   "metadata": {},
   "source": [
    "### GDML Playing\n",
    "\n",
    "Start by understanding the structure and using the GDML structure.\n",
    "Eventually I'll turn this into a class (similar to opticks approach)\n",
    "\n",
    "A good place to start is the [lxml tutorial](https://lxml.de/tutorial.html)"
   ]
  },
  {
   "cell_type": "code",
   "execution_count": 224,
   "metadata": {},
   "outputs": [],
   "source": [
    "from lxml import etree\n",
    "import numpy as np"
   ]
  },
  {
   "cell_type": "code",
   "execution_count": 225,
   "metadata": {},
   "outputs": [
    {
     "name": "stdout",
     "output_type": "stream",
     "text": [
      "gdml element: <Element gdml at 0x2aaac8c6bd88>\n",
      "\n",
      "GDML structure\n",
      "--------------\n",
      "define\n",
      "materials\n",
      "solids\n",
      "structure\n",
      "userinfo\n",
      "setup\n"
     ]
    }
   ],
   "source": [
    "#\n",
    "gdml_file = \"/global/homes/s/seriksen/Opticks/csg_testing/lzgeom_just_ICV_rmTruss_rmBottomPTFE.gdml\"\n",
    "gdml_e = etree.parse(gdml_file).getroot()\n",
    "print('gdml element:',gdml_e)\n",
    "\n",
    "# Get info of element\n",
    "print('\\nGDML structure\\n--------------')\n",
    "for child in gdml_e:\n",
    "    print(child.tag)"
   ]
  },
  {
   "cell_type": "markdown",
   "metadata": {},
   "source": [
    "## Learning Navigation \n",
    "Navigate and view some part of the gdml"
   ]
  },
  {
   "cell_type": "code",
   "execution_count": 247,
   "metadata": {},
   "outputs": [
    {
     "name": "stdout",
     "output_type": "stream",
     "text": [
      "number of materials: 28 \n",
      "\n",
      "quartz0xe969e0\n",
      "pcv0xe96140\n",
      "ss3160xe9bba0\n",
      "elastomer0xe98e50\n",
      "steel0xe9b020\n",
      "lzHVConduitInnerCone0xeb14a0\n",
      "polyFoam0xe94670\n",
      "aluminum0xe7e8f0\n",
      "nicomic0xe99780\n",
      "inconel0xe9a370\n",
      "peek0xe931f0\n",
      "gasXe0xe86fd0\n",
      "teflon0xe9d950\n",
      "titanium0xe9da70\n",
      "sapphire0xe98230\n",
      "vacuum0xea27f0\n",
      "Kovar0xeb74a0\n",
      "alumina0xe98550\n",
      "liquidXe0xe91d30\n",
      "dopedLABGd0xe8db20\n",
      "lzSpecRef0xea16b0\n",
      "acrylic0xe760f0\n",
      "lzHVConduitUmbilical0xeb2de0\n",
      "lzPMTCablingConduit0xeab3b0\n",
      "lzThermosyphonConduit0xeac950\n",
      "lzPMTBottomConduit0xeae210\n",
      "water0xea2ed0\n",
      "tyvek6000xea1f50\n"
     ]
    }
   ],
   "source": [
    "# What materials are there\n",
    "materials = gdml_e.findall('materials/material')\n",
    "print('number of materials:', np.size(materials), '\\n')\n",
    "for mat in materials:\n",
    "    attributes = mat.attrib\n",
    "    print(attributes['name'])"
   ]
  },
  {
   "cell_type": "code",
   "execution_count": 251,
   "metadata": {},
   "outputs": [
    {
     "name": "stdout",
     "output_type": "stream",
     "text": [
      "number of solids: 12668 \n",
      "\n",
      "window_solid0x53d7440\n",
      "photocathode_solid0x53d7840\n",
      "PMTR5912_solid0x53d7220\n",
      "window_solid0x53d8110\n",
      "photocathode_solid0x53d85b0\n",
      "PMTR5912_solid0x53d7ef0\n",
      "window_solid0x53d8f60\n",
      "photocathode_solid0x53d93e0\n",
      "PMTR5912_solid0x53d8d00\n",
      "window_solid0x53d9dc0\n",
      "photocathode_solid0x53da240\n",
      "PMTR5912_solid0x53d9b60\n",
      "window_solid0x53dabd0\n",
      "photocathode_solid0x53db050\n",
      "PMTR5912_solid0x53da970\n"
     ]
    }
   ],
   "source": [
    "# Solids\n",
    "solids = gdml_e.findall(\"solids/*\")\n",
    "print('number of solids:', np.size(solids), '\\n')\n",
    "\n",
    "# Okay that's a lot of solids.. maybe just look at the first few\n",
    "for solid in solids[0:15]: \n",
    "    attributes = solid.attrib\n",
    "    print(attributes['name'])"
   ]
  },
  {
   "cell_type": "code",
   "execution_count": 255,
   "metadata": {},
   "outputs": [
    {
     "name": "stdout",
     "output_type": "stream",
     "text": [
      "number of structure: 10407 \n",
      "\n",
      "PMTR5912Window_log0x53d75b0\n",
      "PMT7081Photocathode_log0x53d79d0\n",
      "PMTR5912_log0x53d7390\n",
      "PMTR5912Window_log0x53d8280\n",
      "PMT7081Photocathode_log0x53d8740\n",
      "PMTR5912_log0x53d8060\n",
      "PMTR5912Window_log0x53d90d0\n",
      "PMT7081Photocathode_log0x53d9570\n",
      "PMTR5912_log0x53d8e70\n",
      "PMTR5912Window_log0x53d9f30\n",
      "PMT7081Photocathode_log0x53da3b0\n",
      "PMTR5912_log0x53d9cd0\n",
      "PMTR5912Window_log0x53dad40\n",
      "PMT7081Photocathode_log0x53db1e0\n",
      "PMTR5912_log0x53daae0\n"
     ]
    }
   ],
   "source": [
    "# Structure\n",
    "structure = gdml_e.findall(\"structure/*\")\n",
    "print('number of structure:', np.size(structure), '\\n')\n",
    "\n",
    "# Okay that's a lot of structure definitions.. maybe just look at the first few\n",
    "for struct in structure[0:15]: \n",
    "    attributes = struct.attrib\n",
    "    print(attributes['name'])"
   ]
  },
  {
   "cell_type": "markdown",
   "metadata": {},
   "source": [
    "# Determine Primitives"
   ]
  },
  {
   "cell_type": "markdown",
   "metadata": {},
   "source": [
    "For one solid, get the information about it"
   ]
  },
  {
   "cell_type": "code",
   "execution_count": 305,
   "metadata": {},
   "outputs": [
    {
     "name": "stdout",
     "output_type": "stream",
     "text": [
      "solid:  photocathode_solid0x53d7840 \n",
      "\n",
      "l_unit: mm\n",
      "a_unit: deg\n",
      "start_phi 0\n",
      "delta_phi 360\n",
      "start_theta: 0\n",
      "delta_theta: 47\n",
      "r_min: 129\n",
      "r_max: 130\n"
     ]
    }
   ],
   "source": [
    "solid = solids[1]\n",
    "print('solid: ', solid.attrib['name'], '\\n')\n",
    "\n",
    "l_unit = solid.attrib['lunit']; print('l_unit:', l_unit)\n",
    "a_unit = solid.attrib['aunit']; print('a_unit:', a_unit)\n",
    "start_phi = solid.attrib['startphi']; print('start_phi', start_phi)\n",
    "delta_phi = solid.attrib['deltaphi']; print('delta_phi', delta_phi)\n",
    "start_theta = solid.attrib['starttheta']; print('start_theta:', start_theta)\n",
    "delta_theta = solid.attrib['deltatheta']; print('delta_theta:', delta_theta)\n",
    "r_min = solid.attrib['rmin']; print('r_min:', r_min)\n",
    "r_max = solid.attrib['rmax']; print('r_max:', r_max)\n",
    "\n",
    "# Options for other solids\n",
    "#x = solid.attrib['x']; print('x:', x)\n",
    "#y = solid.attrib['y']; print('y:', y)\n",
    "#z = solid.attrib['z']; print('z:', z)"
   ]
  },
  {
   "cell_type": "markdown",
   "metadata": {},
   "source": [
    "TODO:\n",
    "1. create default values for the primitives -> lambda\n",
    "2. Add functions to handle spesific solids"
   ]
  },
  {
   "cell_type": "markdown",
   "metadata": {},
   "source": [
    "# CSG"
   ]
  },
  {
   "cell_type": "markdown",
   "metadata": {},
   "source": [
    "Convert XML to CSG\n",
    "\n",
    "\n",
    "Starting point:\n",
    "\n",
    "    Using background info from Rossignac, \"Blist: A Boolean list formulation of CSG trees\"\n",
    "\n",
    "        * http://www.cc.gatech.edu/~jarek/papers/Blist.pdf  \n",
    "        * https://www.ics.uci.edu/~pattis/ICS-31/lectures/simplify/lecture.html\n",
    "\n",
    "        The positive form of a CSG expression is obtained by \n",
    "        distributing any negations down the tree to end up  \n",
    "        with complements in the leaves only.\n",
    "\n",
    "        * DIFFERNCE -> \"-\" \n",
    "        * UNION -> \"+\"  \"OR\"\n",
    "        * INTERSECTION -> \"*\"  \"AND\"\n",
    "        * COMPLEMENT -> \"!\" \n",
    "\n",
    "        deMorgan Tranformations\n",
    "\n",
    "            A - B -> A * !B\n",
    "            !(A*B) -> !A + !B\n",
    "            !(A+B) -> !A * !B\n",
    "            !(A - B) -> !(A*!B) -> !A + B\n",
    "\n",
    "        Example\n",
    "\n",
    "        (A+B)(C-(D-E))                      (A+B)(C(!D+E))\n",
    "\n",
    "                       *                                   *\n",
    "                                                                        \n",
    "                  +          -                        +          *\n",
    "                 / \\        / \\                      / \\        / \\\n",
    "                A   B      C    -                   A   B      C    +  \n",
    "                               / \\                                 / \\\n",
    "                              D   E                              !D   E\n",
    "\n",
    "        test_positivize\n",
    "\n",
    "            original\n",
    "\n",
    "                         in                    \n",
    "                 un              di            \n",
    "             sp      sp      bo          di    \n",
    "                                     bo      bo\n",
    "            positivize\n",
    "\n",
    "                         in                    \n",
    "                 un              in            \n",
    "             sp      sp      bo          un    \n",
    "                                    !bo      bo"
   ]
  },
  {
   "cell_type": "code",
   "execution_count": null,
   "metadata": {},
   "outputs": [],
   "source": []
  },
  {
   "cell_type": "code",
   "execution_count": null,
   "metadata": {},
   "outputs": [],
   "source": []
  },
  {
   "cell_type": "code",
   "execution_count": null,
   "metadata": {},
   "outputs": [],
   "source": []
  }
 ],
 "metadata": {
  "kernelspec": {
   "display_name": "Python [conda env:miniconda3-fast_lz]",
   "language": "python",
   "name": "conda-env-miniconda3-fast_lz-py"
  },
  "language_info": {
   "codemirror_mode": {
    "name": "ipython",
    "version": 3
   },
   "file_extension": ".py",
   "mimetype": "text/x-python",
   "name": "python",
   "nbconvert_exporter": "python",
   "pygments_lexer": "ipython3",
   "version": "3.7.3"
  }
 },
 "nbformat": 4,
 "nbformat_minor": 4
}
