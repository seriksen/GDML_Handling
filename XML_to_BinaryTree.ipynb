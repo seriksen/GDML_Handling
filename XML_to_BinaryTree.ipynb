{
 "cells": [
  {
   "cell_type": "markdown",
   "metadata": {},
   "source": [
    "# GDML Explorer"
   ]
  },
  {
   "cell_type": "markdown",
   "metadata": {},
   "source": [
    "Author: [Sam Eriksen](mailto:sam.eriksen@bristol.ac.uk)\n",
    "\n",
    "## Purpose\n",
    "To work out how to explore GDML files to convert to trees for GPU simulations."
   ]
  },
  {
   "cell_type": "markdown",
   "metadata": {},
   "source": [
    "##### Unusual Libraries Needed\n",
    "* lxml"
   ]
  },
  {
   "cell_type": "markdown",
   "metadata": {},
   "source": [
    "### GDML Playing\n",
    "\n",
    "Start by understanding the structure and using the GDML structure.\n",
    "Eventually I'll turn this into a class (similar to opticks approach)\n",
    "\n",
    "A good place to start is the [lxml tutorial](https://lxml.de/tutorial.html)"
   ]
  },
  {
   "cell_type": "code",
   "execution_count": 13,
   "metadata": {},
   "outputs": [],
   "source": [
    "from lxml import etree\n",
    "import numpy as np"
   ]
  },
  {
   "cell_type": "code",
   "execution_count": 232,
   "metadata": {},
   "outputs": [
    {
     "name": "stdout",
     "output_type": "stream",
     "text": [
      "gdml element: <Element gdml at 0x2aaacd86ac48>\n",
      "\n",
      "GDML structure\n",
      "--------------\n",
      "define\n",
      "materials\n",
      "solids\n",
      "structure\n",
      "userinfo\n",
      "setup\n"
     ]
    }
   ],
   "source": [
    "#\n",
    "gdml_file = \"/global/homes/s/seriksen/Opticks/csg_testing/lzgeom_just_ICV_rmTruss_rmBottomPTFE.gdml\"\n",
    "gdml_e = etree.parse(gdml_file).getroot()\n",
    "print('gdml element:',gdml_e)\n",
    "\n",
    "# Get info of element\n",
    "print('\\nGDML structure\\n--------------')\n",
    "for child in gdml_e:\n",
    "    print(child.tag)"
   ]
  },
  {
   "cell_type": "markdown",
   "metadata": {},
   "source": [
    "## Learning Navigation \n",
    "Write a class to extract different information"
   ]
  },
  {
   "cell_type": "code",
   "execution_count": 233,
   "metadata": {},
   "outputs": [],
   "source": [
    "from lxml import etree\n",
    "class GDML():\n",
    "    \n",
    "    def __init__(self, path):\n",
    "        \n",
    "        self.path = path\n",
    "        self.fulletree = etree.parse(self.path).getroot()\n",
    "        self.materials = self._findallnames(\"materials/material\")\n",
    "        self.nmaterials = len(self.materials)\n",
    "        self.structures = self._findallnames(\"structure/volume\")\n",
    "        self.nstructures = len(self.structures)\n",
    "        self.world = self._findWorld()\n",
    "        \n",
    "    def _findallnames(self, tofind):\n",
    "        allthings = self.fulletree.findall(tofind)\n",
    "        valuelist = []\n",
    "        for value in allthings:\n",
    "            attribute = value.attrib\n",
    "            valuelist.append(attribute['name'])\n",
    "        return valuelist\n",
    "        \n",
    "    def _findWorld(self):\n",
    "        world_setup = self.fulletree.findall(\"setup/world\")\n",
    "        world = world_setup[0].attrib['ref']\n",
    "        return(world)\n"
   ]
  },
  {
   "cell_type": "code",
   "execution_count": 234,
   "metadata": {},
   "outputs": [],
   "source": [
    "a = GDML(\"/global/homes/s/seriksen/Opticks/csg_testing/lzgeom_just_ICV_rmTruss_rmBottomPTFE.gdml\")"
   ]
  },
  {
   "cell_type": "code",
   "execution_count": 235,
   "metadata": {},
   "outputs": [
    {
     "data": {
      "text/plain": [
       "'/global/homes/s/seriksen/Opticks/csg_testing/lzgeom_just_ICV_rmTruss_rmBottomPTFE.gdml'"
      ]
     },
     "execution_count": 235,
     "metadata": {},
     "output_type": "execute_result"
    }
   ],
   "source": [
    "a.path"
   ]
  },
  {
   "cell_type": "code",
   "execution_count": 236,
   "metadata": {},
   "outputs": [
    {
     "data": {
      "text/plain": [
       "8828"
      ]
     },
     "execution_count": 236,
     "metadata": {},
     "output_type": "execute_result"
    }
   ],
   "source": [
    "a.nstructures"
   ]
  },
  {
   "cell_type": "markdown",
   "metadata": {},
   "source": [
    "# Handling the Entire File \n",
    "\n",
    "Before turning into a binary tree, have to extract more information out and link it.\n",
    "\n",
    "Firstly, create a class similar to the one above which handles the elements from the etree in a better way.\n",
    "These elements can be a number of different things including, eg a Material or a Volume"
   ]
  },
  {
   "cell_type": "code",
   "execution_count": 288,
   "metadata": {},
   "outputs": [],
   "source": [
    "class GDMLElement(object):\n",
    "\n",
    "    def __init__(self, elem, g=None):\n",
    "        self.elem = elem\n",
    "        self.g = g\n",
    "        self.name = self.elem.attrib.get('name',None)\n",
    "        self.typ = self.__class__.__name__\n",
    "        self.gidx = (lambda self:\"[%d]\" % self.idx if hasattr(self, 'idx') else '[]' )\n",
    "        self.idx = []\n",
    "        self.name = lambda self:self.elem.attrib.get('name',None)\n",
    "        \n",
    "    def _findall(self, expr):\n",
    "        wrap_ = lambda e: print(self.g.kls.get(e.tag,GDMLElement)) #(e,self.g)\n",
    "        fa = map(wrap_, self.elem.findall(expr) )\n",
    "        return fa\n",
    "    \n",
    "    def att(self, name, default=None, typ=None):\n",
    "        assert typ is not None\n",
    "        v = self.elem.attrib.get(name, default)\n",
    "        return typ(v)"
   ]
  },
  {
   "cell_type": "markdown",
   "metadata": {},
   "source": [
    "Next need to handle each of the types of things which will be in the GDML file.\n",
    "A class is needed for each of these"
   ]
  },
  {
   "cell_type": "code",
   "execution_count": 289,
   "metadata": {},
   "outputs": [],
   "source": [
    "import collections\n",
    "class odict(collections.OrderedDict):\n",
    "    def __call__(self, iarg):\n",
    "        return self.items()[iarg][1]"
   ]
  },
  {
   "cell_type": "markdown",
   "metadata": {},
   "source": [
    "Collect Materials"
   ]
  },
  {
   "cell_type": "code",
   "execution_count": 290,
   "metadata": {},
   "outputs": [],
   "source": [
    "class Material(GDMLElement):\n",
    "    \n",
    "    def __init__(self):\n",
    "        self.state = self.att('state', '', type=str)\n",
    "        \n",
    "    def __repr__(self):\n",
    "        return \"%s %s %s %s\" % (self.gidx, self.typ, self.name, self.state )"
   ]
  },
  {
   "cell_type": "code",
   "execution_count": 291,
   "metadata": {},
   "outputs": [],
   "source": [
    "class Volume(GDMLElement):\n",
    "\n",
    "    def __init__(self):\n",
    "        self.materialref = lambda self:self.elem.find(\"materialref\").attrib[\"ref\"]\n",
    "        self.solidref = lambda self:self.elem.find(\"solidref\").attrib[\"ref\"]\n",
    "        self.solid = (lambda self:self.g.solids[self.solidref])\n",
    "        self.material = (lambda self:self.g.materials[self.materialref])\n",
    "        self.physvol = (lambda self:self.findall_(\"physvol\"))\n",
    "        self.children = (lambda self:self.physvol)\n",
    "\n",
    "    def filterpv(self, pfx):\n",
    "        return filter(lambda pv:pv.name.startswith(pfx), self.physvol) \n",
    "\n",
    "    def rdump(self, depth=0):\n",
    "        for pv in self.physvol:\n",
    "            lv = pv.volume\n",
    "            lv.rdump(depth=depth+1)\n",
    " \n",
    "\n",
    "    def __repr__(self):\n",
    "        repr_ = lambda _:\"   %r\" % _ \n",
    "        pvs = map(repr_, self.physvol) \n",
    "        line = \"%s %s %s %s %s\" % (self.gidx, self.typ, self.name, self.materialref, self.solidref)\n",
    "        return \"\\n\".join([line, repr_(self.solid), repr_(self.material)] + pvs )\n",
    "    \n",
    "class PhysVol(GDMLElement):\n",
    "\n",
    "    def __init__(self):\n",
    "        self.volumeref = (lambda self:self.elem.find(\"volumeref\").attrib[\"ref\"])\n",
    "        self.volume = (lambda self:self.g.volumes[self.volumeref])\n",
    "        self.children = (lambda self:[self.volume])\n",
    "\n",
    "        self.position = (lambda self:self.find1_(\"position\"))\n",
    "        self.rotation = (lambda self:self.find1_(\"rotation\"))\n",
    "        self.scale = (lambda self:self.find1_(\"scale\"))\n",
    "        self.transform = (lambda self:construct_transform(self))\n",
    "\n",
    "    def __repr__(self):\n",
    "        return \"\\n\".join([\"%s %s\" % (self.typ, self.name),\" %r %r \" % ( self.position, self.rotation)])"
   ]
  },
  {
   "cell_type": "code",
   "execution_count": 292,
   "metadata": {},
   "outputs": [],
   "source": [
    "parse_ = lambda _:etree.parse(os.path.expandvars(_)).getroot()\n",
    "tostring_ = lambda _:etree.tostring(_)\n",
    "import os\n",
    "class GDML(GDMLElement):\n",
    "# Types of things in the\n",
    "    kls = {\n",
    "            \"material\":Material,\n",
    "            \"volume\":Volume,\n",
    "            \"physvol\":PhysVol,\n",
    "        }\n",
    "    @classmethod\n",
    "    def parse(cls, path=\"/global/homes/s/seriksen/Opticks/csg_testing/lzgeom_just_ICV_rmTruss_rmBottomPTFE.gdml\"):\n",
    "        gg = parse_(path)\n",
    "        a = GDMLElement(gg)\n",
    "        wgg = cls.wrap(gg, path=path)\n",
    "        return wgg \n",
    "\n",
    "    @classmethod\n",
    "    def fromstring(cls, st ):\n",
    "        gg = ET.fromstring(st) \n",
    "        wgg = cls.wrap(gg)\n",
    "        return wgg \n",
    "\n",
    "    @classmethod\n",
    "    def wrap(cls, gdml, path=None):\n",
    "        gg = cls(gdml)\n",
    "        gg.g = gg\n",
    "        gg.path = path\n",
    "        gg.string = tostring_(gdml)\n",
    "        gg.init()\n",
    "        return gg \n",
    "    \n",
    "    def find_by_prefix(self, d, prefix):\n",
    "        return filter(lambda v:v.name.startswith(prefix), d.values())\n",
    "    \n",
    "    def find_materials(self, prefix=\"/dd/Materials/Acrylic\"):\n",
    "        return self.find_by_prefix(self.materials, prefix)\n",
    "    \n",
    "    def find_volumes(self, prefix=\"/dd/Geometry/PMT/lvPmtHemi\"):\n",
    "        return self.find_by_prefix(self.volumes, prefix)\n",
    "    \n",
    "    world = property(lambda self:self.volumes[self.worldvol])\n",
    "\n",
    "    def init(self):\n",
    "    \n",
    "        self.materials = odict()\n",
    "        self.volumes = odict()\n",
    "        \n",
    "        for i, e in enumerate(self._findall(\"materials/material\")):\n",
    "            e.idx = i\n",
    "            self.materials[e.name] = e \n",
    "        pass\n",
    "        for i, e in enumerate(self._findall(\"structure/*\")):\n",
    "            e.idx = i\n",
    "            self.volumes[e.name] = e\n",
    "        pass"
   ]
  },
  {
   "cell_type": "code",
   "execution_count": 293,
   "metadata": {},
   "outputs": [
    {
     "name": "stdout",
     "output_type": "stream",
     "text": [
      "<class '__main__.Material'>\n"
     ]
    },
    {
     "ename": "AttributeError",
     "evalue": "'NoneType' object has no attribute 'idx'",
     "output_type": "error",
     "traceback": [
      "\u001b[0;31m---------------------------------------------------------------------------\u001b[0m",
      "\u001b[0;31mAttributeError\u001b[0m                            Traceback (most recent call last)",
      "\u001b[0;32m<ipython-input-293-09d7e7ca4dc3>\u001b[0m in \u001b[0;36m<module>\u001b[0;34m\u001b[0m\n\u001b[0;32m----> 1\u001b[0;31m \u001b[0ma\u001b[0m \u001b[0;34m=\u001b[0m \u001b[0mGDML\u001b[0m\u001b[0;34m.\u001b[0m\u001b[0mparse\u001b[0m\u001b[0;34m(\u001b[0m\u001b[0;34m)\u001b[0m\u001b[0;34m\u001b[0m\u001b[0;34m\u001b[0m\u001b[0m\n\u001b[0m",
      "\u001b[0;32m<ipython-input-292-4e5a41be818d>\u001b[0m in \u001b[0;36mparse\u001b[0;34m(cls, path)\u001b[0m\n\u001b[1;32m     13\u001b[0m         \u001b[0mgg\u001b[0m \u001b[0;34m=\u001b[0m \u001b[0mparse_\u001b[0m\u001b[0;34m(\u001b[0m\u001b[0mpath\u001b[0m\u001b[0;34m)\u001b[0m\u001b[0;34m\u001b[0m\u001b[0;34m\u001b[0m\u001b[0m\n\u001b[1;32m     14\u001b[0m         \u001b[0ma\u001b[0m \u001b[0;34m=\u001b[0m \u001b[0mGDMLElement\u001b[0m\u001b[0;34m(\u001b[0m\u001b[0mgg\u001b[0m\u001b[0;34m)\u001b[0m\u001b[0;34m\u001b[0m\u001b[0;34m\u001b[0m\u001b[0m\n\u001b[0;32m---> 15\u001b[0;31m         \u001b[0mwgg\u001b[0m \u001b[0;34m=\u001b[0m \u001b[0mcls\u001b[0m\u001b[0;34m.\u001b[0m\u001b[0mwrap\u001b[0m\u001b[0;34m(\u001b[0m\u001b[0mgg\u001b[0m\u001b[0;34m,\u001b[0m \u001b[0mpath\u001b[0m\u001b[0;34m=\u001b[0m\u001b[0mpath\u001b[0m\u001b[0;34m)\u001b[0m\u001b[0;34m\u001b[0m\u001b[0;34m\u001b[0m\u001b[0m\n\u001b[0m\u001b[1;32m     16\u001b[0m         \u001b[0;32mreturn\u001b[0m \u001b[0mwgg\u001b[0m\u001b[0;34m\u001b[0m\u001b[0;34m\u001b[0m\u001b[0m\n\u001b[1;32m     17\u001b[0m \u001b[0;34m\u001b[0m\u001b[0m\n",
      "\u001b[0;32m<ipython-input-292-4e5a41be818d>\u001b[0m in \u001b[0;36mwrap\u001b[0;34m(cls, gdml, path)\u001b[0m\n\u001b[1;32m     28\u001b[0m         \u001b[0mgg\u001b[0m\u001b[0;34m.\u001b[0m\u001b[0mpath\u001b[0m \u001b[0;34m=\u001b[0m \u001b[0mpath\u001b[0m\u001b[0;34m\u001b[0m\u001b[0;34m\u001b[0m\u001b[0m\n\u001b[1;32m     29\u001b[0m         \u001b[0mgg\u001b[0m\u001b[0;34m.\u001b[0m\u001b[0mstring\u001b[0m \u001b[0;34m=\u001b[0m \u001b[0mtostring_\u001b[0m\u001b[0;34m(\u001b[0m\u001b[0mgdml\u001b[0m\u001b[0;34m)\u001b[0m\u001b[0;34m\u001b[0m\u001b[0;34m\u001b[0m\u001b[0m\n\u001b[0;32m---> 30\u001b[0;31m         \u001b[0mgg\u001b[0m\u001b[0;34m.\u001b[0m\u001b[0minit\u001b[0m\u001b[0;34m(\u001b[0m\u001b[0;34m)\u001b[0m\u001b[0;34m\u001b[0m\u001b[0;34m\u001b[0m\u001b[0m\n\u001b[0m\u001b[1;32m     31\u001b[0m         \u001b[0;32mreturn\u001b[0m \u001b[0mgg\u001b[0m\u001b[0;34m\u001b[0m\u001b[0;34m\u001b[0m\u001b[0m\n\u001b[1;32m     32\u001b[0m \u001b[0;34m\u001b[0m\u001b[0m\n",
      "\u001b[0;32m<ipython-input-292-4e5a41be818d>\u001b[0m in \u001b[0;36minit\u001b[0;34m(self)\u001b[0m\n\u001b[1;32m     48\u001b[0m \u001b[0;34m\u001b[0m\u001b[0m\n\u001b[1;32m     49\u001b[0m         \u001b[0;32mfor\u001b[0m \u001b[0mi\u001b[0m\u001b[0;34m,\u001b[0m \u001b[0me\u001b[0m \u001b[0;32min\u001b[0m \u001b[0menumerate\u001b[0m\u001b[0;34m(\u001b[0m\u001b[0mself\u001b[0m\u001b[0;34m.\u001b[0m\u001b[0m_findall\u001b[0m\u001b[0;34m(\u001b[0m\u001b[0;34m\"materials/material\"\u001b[0m\u001b[0;34m)\u001b[0m\u001b[0;34m)\u001b[0m\u001b[0;34m:\u001b[0m\u001b[0;34m\u001b[0m\u001b[0;34m\u001b[0m\u001b[0m\n\u001b[0;32m---> 50\u001b[0;31m             \u001b[0me\u001b[0m\u001b[0;34m.\u001b[0m\u001b[0midx\u001b[0m \u001b[0;34m=\u001b[0m \u001b[0mi\u001b[0m\u001b[0;34m\u001b[0m\u001b[0;34m\u001b[0m\u001b[0m\n\u001b[0m\u001b[1;32m     51\u001b[0m             \u001b[0mself\u001b[0m\u001b[0;34m.\u001b[0m\u001b[0mmaterials\u001b[0m\u001b[0;34m[\u001b[0m\u001b[0me\u001b[0m\u001b[0;34m.\u001b[0m\u001b[0mname\u001b[0m\u001b[0;34m]\u001b[0m \u001b[0;34m=\u001b[0m \u001b[0me\u001b[0m\u001b[0;34m\u001b[0m\u001b[0;34m\u001b[0m\u001b[0m\n\u001b[1;32m     52\u001b[0m         \u001b[0;32mpass\u001b[0m\u001b[0;34m\u001b[0m\u001b[0;34m\u001b[0m\u001b[0m\n",
      "\u001b[0;31mAttributeError\u001b[0m: 'NoneType' object has no attribute 'idx'"
     ]
    }
   ],
   "source": [
    "a = GDML.parse()"
   ]
  },
  {
   "cell_type": "code",
   "execution_count": 259,
   "metadata": {},
   "outputs": [
    {
     "ename": "AttributeError",
     "evalue": "'GDML' object has no attribute 'find_materials'",
     "output_type": "error",
     "traceback": [
      "\u001b[0;31m---------------------------------------------------------------------------\u001b[0m",
      "\u001b[0;31mAttributeError\u001b[0m                            Traceback (most recent call last)",
      "\u001b[0;32m<ipython-input-259-2e1f57d1375c>\u001b[0m in \u001b[0;36m<module>\u001b[0;34m\u001b[0m\n\u001b[0;32m----> 1\u001b[0;31m \u001b[0ma\u001b[0m\u001b[0;34m.\u001b[0m\u001b[0mfind_materials\u001b[0m\u001b[0;34m(\u001b[0m\u001b[0;34m\"tyvek6000xea1f50\"\u001b[0m\u001b[0;34m)\u001b[0m\u001b[0;34m\u001b[0m\u001b[0;34m\u001b[0m\u001b[0m\n\u001b[0m",
      "\u001b[0;31mAttributeError\u001b[0m: 'GDML' object has no attribute 'find_materials'"
     ]
    }
   ],
   "source": [
    "a.find_materials(\"tyvek6000xea1f50\")"
   ]
  },
  {
   "cell_type": "code",
   "execution_count": 213,
   "metadata": {},
   "outputs": [
    {
     "data": {
      "text/plain": [
       "odict()"
      ]
     },
     "execution_count": 213,
     "metadata": {},
     "output_type": "execute_result"
    }
   ],
   "source": [
    "a.volumes"
   ]
  },
  {
   "cell_type": "code",
   "execution_count": 54,
   "metadata": {},
   "outputs": [
    {
     "data": {
      "text/plain": [
       "<filter at 0x2aaaaf381898>"
      ]
     },
     "execution_count": 54,
     "metadata": {},
     "output_type": "execute_result"
    }
   ],
   "source": [
    "a.find_materials(\"quartz0xe969e0\")"
   ]
  },
  {
   "cell_type": "code",
   "execution_count": 57,
   "metadata": {},
   "outputs": [
    {
     "ename": "KeyError",
     "evalue": "<filter object at 0x2aaacd2de278>",
     "output_type": "error",
     "traceback": [
      "\u001b[0;31m---------------------------------------------------------------------------\u001b[0m",
      "\u001b[0;31mKeyError\u001b[0m                                  Traceback (most recent call last)",
      "\u001b[0;32m<ipython-input-57-4fdcf9d059af>\u001b[0m in \u001b[0;36m<module>\u001b[0;34m\u001b[0m\n\u001b[0;32m----> 1\u001b[0;31m \u001b[0ma\u001b[0m\u001b[0;34m.\u001b[0m\u001b[0mmaterials\u001b[0m\u001b[0;34m[\u001b[0m\u001b[0ma\u001b[0m\u001b[0;34m.\u001b[0m\u001b[0mfind_materials\u001b[0m\u001b[0;34m(\u001b[0m\u001b[0;34m\"quartz0xe969e0\"\u001b[0m\u001b[0;34m)\u001b[0m\u001b[0;34m]\u001b[0m\u001b[0;34m\u001b[0m\u001b[0;34m\u001b[0m\u001b[0m\n\u001b[0m",
      "\u001b[0;31mKeyError\u001b[0m: <filter object at 0x2aaacd2de278>"
     ]
    }
   ],
   "source": [
    "a.materials[a.find_materials(\"quartz0xe969e0\")]"
   ]
  },
  {
   "cell_type": "code",
   "execution_count": null,
   "metadata": {},
   "outputs": [],
   "source": []
  }
 ],
 "metadata": {
  "kernelspec": {
   "display_name": "Python [conda env:miniconda3-fast_lz]",
   "language": "python",
   "name": "conda-env-miniconda3-fast_lz-py"
  },
  "language_info": {
   "codemirror_mode": {
    "name": "ipython",
    "version": 3
   },
   "file_extension": ".py",
   "mimetype": "text/x-python",
   "name": "python",
   "nbconvert_exporter": "python",
   "pygments_lexer": "ipython3",
   "version": "3.7.3"
  }
 },
 "nbformat": 4,
 "nbformat_minor": 4
}
