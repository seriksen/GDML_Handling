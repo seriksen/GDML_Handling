{
 "cells": [
  {
   "cell_type": "markdown",
   "metadata": {},
   "source": [
    "# GDML Explorer"
   ]
  },
  {
   "cell_type": "markdown",
   "metadata": {},
   "source": [
    "Author: [Sam Eriksen](mailto:sam.eriksen@bristol.ac.uk)\n",
    "\n",
    "## Purpose\n",
    "To work out how to explore GDML files to convert to trees for GPU simulations."
   ]
  },
  {
   "cell_type": "markdown",
   "metadata": {},
   "source": [
    "##### Unusual Libraries Needed\n",
    "* lxml"
   ]
  },
  {
   "cell_type": "markdown",
   "metadata": {},
   "source": [
    "### GDML Playing\n",
    "\n",
    "Start by understanding the structure and using the GDML structure.\n",
    "Eventually I'll turn this into a class (similar to opticks approach)\n",
    "\n",
    "A good place to start is the [lxml tutorial](https://lxml.de/tutorial.html)"
   ]
  },
  {
   "cell_type": "code",
   "execution_count": 55,
   "metadata": {},
   "outputs": [],
   "source": [
    "from lxml import etree\n",
    "import numpy as np"
   ]
  },
  {
   "cell_type": "code",
   "execution_count": 56,
   "metadata": {},
   "outputs": [
    {
     "name": "stdout",
     "output_type": "stream",
     "text": [
      "gdml element: <Element gdml at 0x2aaad0c6e2c8>\n",
      "\n",
      "GDML structure\n",
      "--------------\n",
      "define\n",
      "materials\n",
      "solids\n",
      "structure\n",
      "userinfo\n",
      "setup\n"
     ]
    }
   ],
   "source": [
    "#\n",
    "gdml_file = \"/global/homes/s/seriksen/Opticks/csg_testing/lzgeom_just_ICV_rmTruss_rmBottomPTFE.gdml\"\n",
    "gdml_e = etree.parse(gdml_file).getroot()\n",
    "print('gdml element:',gdml_e)\n",
    "\n",
    "# Get info of element\n",
    "print('\\nGDML structure\\n--------------')\n",
    "for child in gdml_e:\n",
    "    print(child.tag)"
   ]
  },
  {
   "cell_type": "markdown",
   "metadata": {},
   "source": [
    "## Learning Navigation \n",
    "Write a class to extract different information"
   ]
  },
  {
   "cell_type": "code",
   "execution_count": 75,
   "metadata": {},
   "outputs": [],
   "source": [
    "from lxml import etree\n",
    "class GDML():\n",
    "    \n",
    "    def __init__(self, path):\n",
    "        \n",
    "        self.path = path\n",
    "        self.fulletree = etree.parse(self.path).getroot()\n",
    "        self.materials = self._findallnames(\"materials/material\")\n",
    "        self.nmaterials = len(self.materials)\n",
    "        self.structures = self._findallnames(\"structure/*\")\n",
    "        self.nstructures = len(self.structures)\n",
    "        self.world = self._findWorld()\n",
    "        \n",
    "    def _findallnames(self, tofind):\n",
    "        allthings = self.fulletree.findall(tofind)\n",
    "        valuelist = []\n",
    "        for value in allthings:\n",
    "            attribute = value.attrib\n",
    "            valuelist.append(attribute['name'])\n",
    "        return valuelist\n",
    "        \n",
    "    def _findWorld(self):\n",
    "        world_setup = self.fulletree.findall(\"setup/world\")\n",
    "        world = world_setup[0].attrib['ref']\n",
    "        return(world)\n"
   ]
  },
  {
   "cell_type": "code",
   "execution_count": 76,
   "metadata": {},
   "outputs": [],
   "source": [
    "a = GDML(\"/global/homes/s/seriksen/Opticks/csg_testing/lzgeom_just_ICV_rmTruss_rmBottomPTFE.gdml\")"
   ]
  },
  {
   "cell_type": "code",
   "execution_count": 77,
   "metadata": {},
   "outputs": [
    {
     "data": {
      "text/plain": [
       "'/global/homes/s/seriksen/Opticks/csg_testing/lzgeom_just_ICV_rmTruss_rmBottomPTFE.gdml'"
      ]
     },
     "execution_count": 77,
     "metadata": {},
     "output_type": "execute_result"
    }
   ],
   "source": [
    "a.path"
   ]
  },
  {
   "cell_type": "code",
   "execution_count": 79,
   "metadata": {},
   "outputs": [
    {
     "data": {
      "text/plain": [
       "['quartz0xe969e0',\n",
       " 'pcv0xe96140',\n",
       " 'ss3160xe9bba0',\n",
       " 'elastomer0xe98e50',\n",
       " 'steel0xe9b020',\n",
       " 'lzHVConduitInnerCone0xeb14a0',\n",
       " 'polyFoam0xe94670',\n",
       " 'aluminum0xe7e8f0',\n",
       " 'nicomic0xe99780',\n",
       " 'inconel0xe9a370',\n",
       " 'peek0xe931f0',\n",
       " 'gasXe0xe86fd0',\n",
       " 'teflon0xe9d950',\n",
       " 'titanium0xe9da70',\n",
       " 'sapphire0xe98230',\n",
       " 'vacuum0xea27f0',\n",
       " 'Kovar0xeb74a0',\n",
       " 'alumina0xe98550',\n",
       " 'liquidXe0xe91d30',\n",
       " 'dopedLABGd0xe8db20',\n",
       " 'lzSpecRef0xea16b0',\n",
       " 'acrylic0xe760f0',\n",
       " 'lzHVConduitUmbilical0xeb2de0',\n",
       " 'lzPMTCablingConduit0xeab3b0',\n",
       " 'lzThermosyphonConduit0xeac950',\n",
       " 'lzPMTBottomConduit0xeae210',\n",
       " 'water0xea2ed0',\n",
       " 'tyvek6000xea1f50']"
      ]
     },
     "execution_count": 79,
     "metadata": {},
     "output_type": "execute_result"
    }
   ],
   "source": [
    "a.materials"
   ]
  },
  {
   "cell_type": "markdown",
   "metadata": {},
   "source": [
    "# More Complex Operations\n",
    "\n",
    "Before turning into a binary tree, have to extract more information out and link it.\n",
    "\n",
    "Firstly, create a class similar to the one above which handles the elements from the etree in a better way.\n",
    "These elements can be a number of different things including, eg a Material or a Volume"
   ]
  },
  {
   "cell_type": "code",
   "execution_count": 240,
   "metadata": {},
   "outputs": [],
   "source": [
    "class GDMLElement(object):\n",
    "\n",
    "    def __init__(self, elem, g=None):\n",
    "        self.elem = elem\n",
    "        self.g = g\n",
    "        self.name = (lambda self:self.elem.attrib.get('name',None))\n",
    "        self.typ = (lambda self:self.__class__.__name__)\n",
    "        self.gidx = (lambda self:\"[%d]\" % self.idx if hasattr(self, 'idx') else '[]' )\n",
    "        self.name = lambda self:self.elem.attrib.get('name',None)\n",
    "        \n",
    "    def _findall(self, expr):\n",
    "        wrap_ = lambda e:self.g.kls.get(e.tag,G)(e,self.g)\n",
    "        fa = map(wrap_, self.elem.findall(expr) )\n",
    "        kln = self.__class__.__name__\n",
    "        name = self.name\n",
    "        return fa\n",
    "    \n",
    "    def att(self, name, default=None, typ=None):\n",
    "        assert typ is not None\n",
    "        v = self.elem.attrib.get(name, default)\n",
    "        return typ(v)"
   ]
  },
  {
   "cell_type": "markdown",
   "metadata": {},
   "source": [
    "Next need to handle each of the types of things which will be in the GDML file.\n",
    "A class is needed for each of these"
   ]
  },
  {
   "cell_type": "code",
   "execution_count": 241,
   "metadata": {},
   "outputs": [],
   "source": [
    "# Types of things in the\n",
    "kls = {\n",
    "        \"material\":Material\n",
    "    }\n",
    "import collections"
   ]
  },
  {
   "cell_type": "code",
   "execution_count": 242,
   "metadata": {},
   "outputs": [],
   "source": [
    "class odict(collections.OrderedDict):\n",
    "    \"\"\"\n",
    "    Used for GDML collections of materials, solids and volumes which are \n",
    "    always keyed by name.  Call method for convenient indexed access. \n",
    "    \"\"\"\n",
    "    def __call__(self, iarg):\n",
    "        return self.items()[iarg][1]"
   ]
  },
  {
   "cell_type": "code",
   "execution_count": 243,
   "metadata": {},
   "outputs": [],
   "source": [
    "class Material(GDMLElement):\n",
    "    state = property(lambda self:self.att('state', '', typ=str ))\n",
    "    def __repr__(self):\n",
    "        return \"%s %s %s %s\" % (self.gidx, self.typ, self.name, self.state )"
   ]
  },
  {
   "cell_type": "code",
   "execution_count": 261,
   "metadata": {},
   "outputs": [],
   "source": [
    "parse_ = lambda _:etree.parse(os.path.expandvars(_)).getroot()\n",
    "tostring_ = lambda _:etree.tostring(_)\n",
    "import os\n",
    "class GDML(GDMLElement):\n",
    "# Types of things in the\n",
    "    kls = {\n",
    "            \"material\":Material\n",
    "        }\n",
    "    @classmethod\n",
    "    def parse(cls, path=\"/global/homes/s/seriksen/Opticks/csg_testing/lzgeom_just_ICV_rmTruss_rmBottomPTFE.gdml\"):\n",
    "        gg = parse_(path)\n",
    "        a = GDMLElement(gg)\n",
    "        wgg = cls.wrap(gg, path=path)\n",
    "        return wgg \n",
    "\n",
    "    @classmethod\n",
    "    def fromstring(cls, st ):\n",
    "        gg = ET.fromstring(st) \n",
    "        wgg = cls.wrap(gg)\n",
    "        return wgg \n",
    "\n",
    "    @classmethod\n",
    "    def wrap(cls, gdml, path=None):\n",
    "        gg = cls(gdml)\n",
    "        gg.g = gg\n",
    "        gg.path = path\n",
    "        gg.string = tostring_(gdml)\n",
    "        gg.init()\n",
    "        return gg \n",
    "\n",
    "    def find_materials(self, prefix=\"/dd/Materials/Acrylic\"):\n",
    "        return self.find_by_prefix(self.materials, prefix)\n",
    "\n",
    "    \n",
    "    def find_by_prefix(self, d, prefix):\n",
    "        return filter(lambda v:v.name.startswith(prefix), d.values())\n",
    "    \n",
    "    def find_materials(self, prefix=\"/dd/Materials/Acrylic\"):\n",
    "        return self.find_by_prefix(self.materials, prefix)\n",
    "    \n",
    "    \n",
    "    world = property(lambda self:self.volumes[self.worldvol])\n",
    "\n",
    "    def init(self):\n",
    "    \n",
    "        self.materials = odict()\n",
    "        for i, e in enumerate(self._findall(\"materials/material\")):\n",
    "            e.idx = i\n",
    "            self.materials[e.name] = e \n",
    "        pass"
   ]
  },
  {
   "cell_type": "code",
   "execution_count": 262,
   "metadata": {},
   "outputs": [],
   "source": [
    "a = GDML.parse()"
   ]
  },
  {
   "cell_type": "code",
   "execution_count": 267,
   "metadata": {},
   "outputs": [
    {
     "data": {
      "text/plain": [
       "<filter at 0x2aaad2439240>"
      ]
     },
     "execution_count": 267,
     "metadata": {},
     "output_type": "execute_result"
    }
   ],
   "source": [
    "a.find_materials(\"tyvek6000xea1f50\")"
   ]
  },
  {
   "cell_type": "code",
   "execution_count": null,
   "metadata": {},
   "outputs": [],
   "source": []
  }
 ],
 "metadata": {
  "kernelspec": {
   "display_name": "Python [conda env:miniconda3-fast_lz]",
   "language": "python",
   "name": "conda-env-miniconda3-fast_lz-py"
  },
  "language_info": {
   "codemirror_mode": {
    "name": "ipython",
    "version": 3
   },
   "file_extension": ".py",
   "mimetype": "text/x-python",
   "name": "python",
   "nbconvert_exporter": "python",
   "pygments_lexer": "ipython3",
   "version": "3.7.3"
  }
 },
 "nbformat": 4,
 "nbformat_minor": 4
}
