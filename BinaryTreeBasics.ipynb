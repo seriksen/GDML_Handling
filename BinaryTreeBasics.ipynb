{
 "cells": [
  {
   "cell_type": "markdown",
   "metadata": {},
   "source": [
    "# Binary Trees"
   ]
  },
  {
   "cell_type": "markdown",
   "metadata": {},
   "source": [
    "Small notebook showing binary tree format and navigation.\n",
    "\n",
    "Author [Sam Eriksen](mailto:sam.eriksen@bristol.ac.uk)\n",
    "\n",
    "## Overview\n",
    "Create a binary tree and fill it with random numbers.\n",
    "Tree rules;\n",
    "* Left child node is always smaller than node.\n",
    "* Right child node is always larger than node.\n",
    "* No duplicates"
   ]
  },
  {
   "cell_type": "code",
   "execution_count": 1,
   "metadata": {},
   "outputs": [],
   "source": [
    "class Node:\n",
    "    \"\"\"Define node\n",
    "    Initialised as a leaf.\n",
    "    Both children are empty\n",
    "    \"\"\"\n",
    "    def __init__(self, value=None, left=None, right=None):\n",
    "        self.value = value\n",
    "        self.left = left\n",
    "        self.right = right"
   ]
  },
  {
   "cell_type": "code",
   "execution_count": 2,
   "metadata": {},
   "outputs": [],
   "source": [
    "class Tree:\n",
    "    \n",
    "    def __init__(self):\n",
    "        self.root = None\n",
    "        \n",
    "    def insert(self, value):\n",
    "        if self.root == None:\n",
    "            self.root = Node(value)\n",
    "            \n",
    "        else:\n",
    "            self._insert(value, self.root)\n",
    "    \n",
    "    def _insert(self, value, thisnode):\n",
    "        if value < thisnode.value:\n",
    "            if thisnode.left == None:\n",
    "                thisnode.left = Node(value)\n",
    "            else:\n",
    "                self._insert(value, thisnode.left)\n",
    "        elif value > thisnode.value:\n",
    "            if thisnode.right == None:\n",
    "                thisnode.right = Node(value)\n",
    "            else:\n",
    "                self._insert(value, thisnode.right)\n",
    "        else:\n",
    "            print(\"value already in tree:\", value)\n",
    "            \n",
    "    def display(self):\n",
    "        lines, _, _, _ = self._display_aux(self.root)\n",
    "        print('{:>10}'.format('Height |'))\n",
    "        i = 1; \n",
    "        h = True\n",
    "        for line in lines:\n",
    "            if h: \n",
    "                print('{:>10}'.format(str(i) + ' |'), line)\n",
    "                h = False\n",
    "                i += 1\n",
    "            else:\n",
    "                h = True\n",
    "                print('         |', line)            \n",
    "\n",
    "    def _display_aux(self, node):       \n",
    "              \n",
    "        # Is a leaf\n",
    "        if node.right is None and node.left is None:\n",
    "            line = '%s' % node.value\n",
    "            width = len(line)\n",
    "            height = 1\n",
    "            middle = width // 2\n",
    "            return [line], width, height, middle\n",
    "\n",
    "        # Only left child.\n",
    "        if node.right is None:\n",
    "            lines, n, p, x = self._display_aux(node.left)\n",
    "            s = '%s' % node.value\n",
    "            u = len(s)\n",
    "            first_line = (x + 1) * ' ' + (n - x - 1) * '_' + s\n",
    "            second_line = x * ' ' + '/' + (n - x - 1 + u) * ' '\n",
    "            shifted_lines = [line + u * ' ' for line in lines]\n",
    "            return [first_line, second_line] + shifted_lines, n + u, p + 2, n + u // 2\n",
    "\n",
    "        # Only right child.\n",
    "        if node.left is None:\n",
    "            lines, n, p, x = self._display_aux(node.right)\n",
    "            s = '%s' % node.value\n",
    "            u = len(s)\n",
    "            first_line = s + x * '_' + (n - x) * ' '\n",
    "            second_line = (u + x) * ' ' + '\\\\' + (n - x - 1) * ' '\n",
    "            shifted_lines = [u * ' ' + line for line in lines]\n",
    "            return [first_line, second_line] + shifted_lines, n + u, p + 2, u // 2\n",
    "\n",
    "        # Two children.\n",
    "        left, n, p, x = self._display_aux(node.left)\n",
    "        right, m, q, y = self._display_aux(node.right)\n",
    "        s = '%s' % node.value\n",
    "        u = len(s)\n",
    "        first_line = (x + 1) * ' ' + (n - x - 1) * '_' + s + y * '_' + (m - y) * ' '\n",
    "        second_line = x * ' ' + '/' + (n - x - 1 + u + y) * ' ' + '\\\\' + (m - y - 1) * ' '\n",
    "        if p < q:\n",
    "            left += [n * ' '] * (q - p)\n",
    "        elif q < p:\n",
    "            right += [m * ' '] * (p - q)\n",
    "        zipped_lines = zip(left, right)\n",
    "        lines = [first_line, second_line] + [a + u * ' ' + b for a, b in zipped_lines]\n",
    "        return lines, n + m + u, max(p, q) + 2, n + u // 2\n",
    "        \n",
    "            \n",
    "    def get_height(self):\n",
    "        if self.root == None:\n",
    "            return 0\n",
    "        else:\n",
    "            return self._get_height(self.root, 0)\n",
    "    \n",
    "    def _get_height(self, node, lastheight):\n",
    "        if node == None:\n",
    "            return lastheight\n",
    "        lheight = self._get_height(node.left, lastheight + 1)\n",
    "        rheight = self._get_height(node.right, lastheight + 1)\n",
    "        return max(lheight, rheight)         "
   ]
  },
  {
   "cell_type": "code",
   "execution_count": 3,
   "metadata": {},
   "outputs": [],
   "source": [
    "import random\n",
    "def fill_tree(tree, n):\n",
    "    for _ in range(n):\n",
    "        elem = random.randint(0, 100)\n",
    "        tree.insert(elem)\n",
    "    return tree"
   ]
  },
  {
   "cell_type": "code",
   "execution_count": 4,
   "metadata": {},
   "outputs": [
    {
     "name": "stdout",
     "output_type": "stream",
     "text": [
      "value already in tree: 24\n"
     ]
    }
   ],
   "source": [
    "testTree = Tree()\n",
    "filledTree = fill_tree(testTree, 20)"
   ]
  },
  {
   "cell_type": "code",
   "execution_count": 5,
   "metadata": {},
   "outputs": [
    {
     "name": "stdout",
     "output_type": "stream",
     "text": [
      "  Height |\n",
      "       1 |       29_____________________       \n",
      "         |      /                       \\      \n",
      "       2 |   __24                    __87___   \n",
      "         |  /                       /       \\  \n",
      "       3 |  9_         ____________80_     96_ \n",
      "         | /  \\       /               \\   /   \\\n",
      "       4 | 6 23      40_____         82  93  99\n",
      "         |          /       \\                  \n",
      "       5 |         36      55_____             \n",
      "         |                /       \\            \n",
      "       6 |               54    __78            \n",
      "         |              /     /                \n",
      "       7 |             46    57_               \n",
      "         |                      \\              \n",
      "       8 |                     73              \n"
     ]
    }
   ],
   "source": [
    "filledTree.display()"
   ]
  },
  {
   "cell_type": "code",
   "execution_count": 6,
   "metadata": {},
   "outputs": [
    {
     "data": {
      "text/plain": [
       "8"
      ]
     },
     "execution_count": 6,
     "metadata": {},
     "output_type": "execute_result"
    }
   ],
   "source": [
    "filledTree.get_height()"
   ]
  },
  {
   "cell_type": "code",
   "execution_count": null,
   "metadata": {},
   "outputs": [],
   "source": []
  }
 ],
 "metadata": {
  "kernelspec": {
   "display_name": "Python [conda env:miniconda3-fast_lz]",
   "language": "python",
   "name": "conda-env-miniconda3-fast_lz-py"
  },
  "language_info": {
   "codemirror_mode": {
    "name": "ipython",
    "version": 3
   },
   "file_extension": ".py",
   "mimetype": "text/x-python",
   "name": "python",
   "nbconvert_exporter": "python",
   "pygments_lexer": "ipython3",
   "version": "3.7.3"
  }
 },
 "nbformat": 4,
 "nbformat_minor": 4
}
